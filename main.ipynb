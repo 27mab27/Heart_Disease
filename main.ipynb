{
 "cells": [
  {
   "cell_type": "markdown",
   "metadata": {},
   "source": [
    "## Import Dependencies\n"
   ]
  },
  {
   "cell_type": "code",
   "execution_count": 188,
   "metadata": {},
   "outputs": [],
   "source": [
    "import pandas as pd\n",
    "import numpy as np\n",
    "import matplotlib.pyplot as plt\n",
    "import seaborn as sns\n",
    "from sklearn.model_selection import train_test_split, GridSearchCV\n",
    "from sklearn.preprocessing import StandardScaler\n",
    "from sklearn.ensemble import RandomForestClassifier, GradientBoostingClassifier\n",
    "from sklearn.metrics import accuracy_score, classification_report, confusion_matrix"
   ]
  },
  {
   "cell_type": "markdown",
   "metadata": {},
   "source": [
    "## Load the Dataset\n"
   ]
  },
  {
   "cell_type": "code",
   "execution_count": 189,
   "metadata": {},
   "outputs": [
    {
     "data": {
      "text/html": [
       "<div>\n",
       "<style scoped>\n",
       "    .dataframe tbody tr th:only-of-type {\n",
       "        vertical-align: middle;\n",
       "    }\n",
       "\n",
       "    .dataframe tbody tr th {\n",
       "        vertical-align: top;\n",
       "    }\n",
       "\n",
       "    .dataframe thead th {\n",
       "        text-align: right;\n",
       "    }\n",
       "</style>\n",
       "<table border=\"1\" class=\"dataframe\">\n",
       "  <thead>\n",
       "    <tr style=\"text-align: right;\">\n",
       "      <th></th>\n",
       "      <th>ID</th>\n",
       "      <th>Age</th>\n",
       "      <th>Gender</th>\n",
       "      <th>Troponin C</th>\n",
       "      <th>Troponin C Classification</th>\n",
       "      <th>Creatine Kinase</th>\n",
       "      <th>Creatine Kinase Classification</th>\n",
       "      <th>Ejection Fraction</th>\n",
       "      <th>Ejection Fraction Status</th>\n",
       "      <th>Artery Blockage (%)</th>\n",
       "      <th>Smoking</th>\n",
       "      <th>Alcohol</th>\n",
       "      <th>Heart Disease</th>\n",
       "    </tr>\n",
       "  </thead>\n",
       "  <tbody>\n",
       "    <tr>\n",
       "      <th>0</th>\n",
       "      <td>1</td>\n",
       "      <td>68</td>\n",
       "      <td>0</td>\n",
       "      <td>4.65</td>\n",
       "      <td>Abnormal</td>\n",
       "      <td>118.6</td>\n",
       "      <td>Normal</td>\n",
       "      <td>61.20</td>\n",
       "      <td>Normal</td>\n",
       "      <td>37.45</td>\n",
       "      <td>0</td>\n",
       "      <td>0</td>\n",
       "      <td>0</td>\n",
       "    </tr>\n",
       "    <tr>\n",
       "      <th>1</th>\n",
       "      <td>2</td>\n",
       "      <td>58</td>\n",
       "      <td>0</td>\n",
       "      <td>0.00</td>\n",
       "      <td>Normal</td>\n",
       "      <td>1274.4</td>\n",
       "      <td>Abnormal</td>\n",
       "      <td>59.49</td>\n",
       "      <td>Abnormal</td>\n",
       "      <td>95.07</td>\n",
       "      <td>1</td>\n",
       "      <td>1</td>\n",
       "      <td>1</td>\n",
       "    </tr>\n",
       "    <tr>\n",
       "      <th>2</th>\n",
       "      <td>3</td>\n",
       "      <td>44</td>\n",
       "      <td>1</td>\n",
       "      <td>46.87</td>\n",
       "      <td>Abnormal</td>\n",
       "      <td>1357.6</td>\n",
       "      <td>Abnormal</td>\n",
       "      <td>74.10</td>\n",
       "      <td>Normal</td>\n",
       "      <td>73.20</td>\n",
       "      <td>1</td>\n",
       "      <td>1</td>\n",
       "      <td>1</td>\n",
       "    </tr>\n",
       "    <tr>\n",
       "      <th>3</th>\n",
       "      <td>4</td>\n",
       "      <td>72</td>\n",
       "      <td>0</td>\n",
       "      <td>40.10</td>\n",
       "      <td>Abnormal</td>\n",
       "      <td>183.6</td>\n",
       "      <td>Normal</td>\n",
       "      <td>71.99</td>\n",
       "      <td>Normal</td>\n",
       "      <td>59.87</td>\n",
       "      <td>0</td>\n",
       "      <td>0</td>\n",
       "      <td>0</td>\n",
       "    </tr>\n",
       "    <tr>\n",
       "      <th>4</th>\n",
       "      <td>5</td>\n",
       "      <td>37</td>\n",
       "      <td>1</td>\n",
       "      <td>0.01</td>\n",
       "      <td>Normal</td>\n",
       "      <td>55.2</td>\n",
       "      <td>Normal</td>\n",
       "      <td>51.38</td>\n",
       "      <td>Abnormal</td>\n",
       "      <td>15.60</td>\n",
       "      <td>1</td>\n",
       "      <td>1</td>\n",
       "      <td>1</td>\n",
       "    </tr>\n",
       "  </tbody>\n",
       "</table>\n",
       "</div>"
      ],
      "text/plain": [
       "   ID  Age  Gender  Troponin C Troponin C Classification  Creatine Kinase  \\\n",
       "0   1   68       0        4.65                  Abnormal            118.6   \n",
       "1   2   58       0        0.00                    Normal           1274.4   \n",
       "2   3   44       1       46.87                  Abnormal           1357.6   \n",
       "3   4   72       0       40.10                  Abnormal            183.6   \n",
       "4   5   37       1        0.01                    Normal             55.2   \n",
       "\n",
       "  Creatine Kinase Classification  Ejection Fraction Ejection Fraction Status  \\\n",
       "0                         Normal              61.20                   Normal   \n",
       "1                       Abnormal              59.49                 Abnormal   \n",
       "2                       Abnormal              74.10                   Normal   \n",
       "3                         Normal              71.99                   Normal   \n",
       "4                         Normal              51.38                 Abnormal   \n",
       "\n",
       "   Artery Blockage (%)  Smoking  Alcohol  Heart Disease  \n",
       "0                37.45        0        0              0  \n",
       "1                95.07        1        1              1  \n",
       "2                73.20        1        1              1  \n",
       "3                59.87        0        0              0  \n",
       "4                15.60        1        1              1  "
      ]
     },
     "metadata": {},
     "output_type": "display_data"
    }
   ],
   "source": [
    "file_path = 'Heart_Disease dataset.xlsx'  \n",
    "df = pd.read_excel(file_path)\n",
    "display(df.head())\n"
   ]
  },
  {
   "cell_type": "code",
   "execution_count": 201,
   "metadata": {},
   "outputs": [
    {
     "data": {
      "text/plain": [
       "array([[<Axes: title={'center': 'ID'}>, <Axes: title={'center': 'Age'}>,\n",
       "        <Axes: title={'center': 'Gender'}>,\n",
       "        <Axes: title={'center': 'Troponin C'}>],\n",
       "       [<Axes: title={'center': 'Troponin C Classification'}>,\n",
       "        <Axes: title={'center': 'Creatine Kinase'}>,\n",
       "        <Axes: title={'center': 'Creatine Kinase Classification'}>,\n",
       "        <Axes: title={'center': 'Ejection Fraction'}>],\n",
       "       [<Axes: title={'center': 'Ejection Fraction Status'}>,\n",
       "        <Axes: title={'center': 'Artery Blockage (%)'}>,\n",
       "        <Axes: title={'center': 'Smoking'}>,\n",
       "        <Axes: title={'center': 'Alcohol'}>],\n",
       "       [<Axes: title={'center': 'Heart Disease'}>, <Axes: >, <Axes: >,\n",
       "        <Axes: >]], dtype=object)"
      ]
     },
     "execution_count": 201,
     "metadata": {},
     "output_type": "execute_result"
    },
    {
     "data": {
      "image/png": "[encoded data removed]",
      "text/plain": [
       "<Figure size 640x480 with 16 Axes>"
      ]
     },
     "metadata": {},
     "output_type": "display_data"
    }
   ],
   "source": [
    "df.hist()"
   ]
  },
  {
   "cell_type": "code",
   "execution_count": 190,
   "metadata": {},
   "outputs": [],
   "source": [
    "# Encode categorical variables \n",
    "categorical_columns = df.select_dtypes(include=['object']).columns\n",
    "for col in categorical_columns:\n",
    "    df[col] = pd.factorize(df[col])[0]"
   ]
  },
  {
   "cell_type": "code",
   "execution_count": 191,
   "metadata": {},
   "outputs": [
    {
     "name": "stdout",
     "output_type": "stream",
     "text": [
      "Missing values per column:\n",
      "ID                                0\n",
      "Age                               0\n",
      "Gender                            0\n",
      "Troponin C                        0\n",
      "Troponin C Classification         0\n",
      "Creatine Kinase                   0\n",
      "Creatine Kinase Classification    0\n",
      "Ejection Fraction                 0\n",
      "Ejection Fraction Status          0\n",
      "Artery Blockage (%)               0\n",
      "Smoking                           0\n",
      "Alcohol                           0\n",
      "Heart Disease                     0\n",
      "dtype: int64\n"
     ]
    }
   ],
   "source": [
    "print(\"Missing values per column:\")\n",
    "print(df.isnull().sum())"
   ]
  },
  {
   "cell_type": "code",
   "execution_count": 192,
   "metadata": {},
   "outputs": [
    {
     "name": "stdout",
     "output_type": "stream",
     "text": [
      "Feature Matrix (X):\n"
     ]
    },
    {
     "data": {
      "text/html": [
       "<div>\n",
       "<style scoped>\n",
       "    .dataframe tbody tr th:only-of-type {\n",
       "        vertical-align: middle;\n",
       "    }\n",
       "\n",
       "    .dataframe tbody tr th {\n",
       "        vertical-align: top;\n",
       "    }\n",
       "\n",
       "    .dataframe thead th {\n",
       "        text-align: right;\n",
       "    }\n",
       "</style>\n",
       "<table border=\"1\" class=\"dataframe\">\n",
       "  <thead>\n",
       "    <tr style=\"text-align: right;\">\n",
       "      <th></th>\n",
       "      <th>Age</th>\n",
       "      <th>Gender</th>\n",
       "      <th>Troponin C</th>\n",
       "      <th>Troponin C Classification</th>\n",
       "      <th>Creatine Kinase</th>\n",
       "      <th>Creatine Kinase Classification</th>\n",
       "      <th>Ejection Fraction</th>\n",
       "      <th>Ejection Fraction Status</th>\n",
       "      <th>Artery Blockage (%)</th>\n",
       "      <th>Smoking</th>\n",
       "      <th>Alcohol</th>\n",
       "    </tr>\n",
       "  </thead>\n",
       "  <tbody>\n",
       "    <tr>\n",
       "      <th>0</th>\n",
       "      <td>68</td>\n",
       "      <td>0</td>\n",
       "      <td>4.65</td>\n",
       "      <td>0</td>\n",
       "      <td>118.6</td>\n",
       "      <td>0</td>\n",
       "      <td>61.20</td>\n",
       "      <td>0</td>\n",
       "      <td>37.45</td>\n",
       "      <td>0</td>\n",
       "      <td>0</td>\n",
       "    </tr>\n",
       "    <tr>\n",
       "      <th>1</th>\n",
       "      <td>58</td>\n",
       "      <td>0</td>\n",
       "      <td>0.00</td>\n",
       "      <td>1</td>\n",
       "      <td>1274.4</td>\n",
       "      <td>1</td>\n",
       "      <td>59.49</td>\n",
       "      <td>1</td>\n",
       "      <td>95.07</td>\n",
       "      <td>1</td>\n",
       "      <td>1</td>\n",
       "    </tr>\n",
       "    <tr>\n",
       "      <th>2</th>\n",
       "      <td>44</td>\n",
       "      <td>1</td>\n",
       "      <td>46.87</td>\n",
       "      <td>0</td>\n",
       "      <td>1357.6</td>\n",
       "      <td>1</td>\n",
       "      <td>74.10</td>\n",
       "      <td>0</td>\n",
       "      <td>73.20</td>\n",
       "      <td>1</td>\n",
       "      <td>1</td>\n",
       "    </tr>\n",
       "    <tr>\n",
       "      <th>3</th>\n",
       "      <td>72</td>\n",
       "      <td>0</td>\n",
       "      <td>40.10</td>\n",
       "      <td>0</td>\n",
       "      <td>183.6</td>\n",
       "      <td>0</td>\n",
       "      <td>71.99</td>\n",
       "      <td>0</td>\n",
       "      <td>59.87</td>\n",
       "      <td>0</td>\n",
       "      <td>0</td>\n",
       "    </tr>\n",
       "    <tr>\n",
       "      <th>4</th>\n",
       "      <td>37</td>\n",
       "      <td>1</td>\n",
       "      <td>0.01</td>\n",
       "      <td>1</td>\n",
       "      <td>55.2</td>\n",
       "      <td>0</td>\n",
       "      <td>51.38</td>\n",
       "      <td>1</td>\n",
       "      <td>15.60</td>\n",
       "      <td>1</td>\n",
       "      <td>1</td>\n",
       "    </tr>\n",
       "  </tbody>\n",
       "</table>\n",
       "</div>"
      ],
      "text/plain": [
       "   Age  Gender  Troponin C  Troponin C Classification  Creatine Kinase  \\\n",
       "0   68       0        4.65                          0            118.6   \n",
       "1   58       0        0.00                          1           1274.4   \n",
       "2   44       1       46.87                          0           1357.6   \n",
       "3   72       0       40.10                          0            183.6   \n",
       "4   37       1        0.01                          1             55.2   \n",
       "\n",
       "   Creatine Kinase Classification  Ejection Fraction  \\\n",
       "0                               0              61.20   \n",
       "1                               1              59.49   \n",
       "2                               1              74.10   \n",
       "3                               0              71.99   \n",
       "4                               0              51.38   \n",
       "\n",
       "   Ejection Fraction Status  Artery Blockage (%)  Smoking  Alcohol  \n",
       "0                         0                37.45        0        0  \n",
       "1                         1                95.07        1        1  \n",
       "2                         0                73.20        1        1  \n",
       "3                         0                59.87        0        0  \n",
       "4                         1                15.60        1        1  "
      ]
     },
     "metadata": {},
     "output_type": "display_data"
    },
    {
     "name": "stdout",
     "output_type": "stream",
     "text": [
      "\n",
      "Target Variable (y):\n"
     ]
    },
    {
     "data": {
      "text/plain": [
       "0    0\n",
       "1    1\n",
       "2    1\n",
       "3    0\n",
       "4    1\n",
       "Name: Heart Disease, dtype: int64"
      ]
     },
     "metadata": {},
     "output_type": "display_data"
    }
   ],
   "source": [
    "X = df.drop(columns=['Heart Disease']) \n",
    "y = df['Heart Disease']\n",
    "drop_cols = [\"ID\"]\n",
    "X = X.drop(columns=drop_cols)\n",
    "\n",
    "print(\"Feature Matrix (X):\")\n",
    "display(X.head())\n",
    "\n",
    "print(\"\\nTarget Variable (y):\")\n",
    "display(y.head())"
   ]
  },
  {
   "cell_type": "code",
   "execution_count": 193,
   "metadata": {},
   "outputs": [
    {
     "name": "stdout",
     "output_type": "stream",
     "text": [
      "Heart Disease                     1.000000\n",
      "Smoking                           0.820461\n",
      "Alcohol                           0.809020\n",
      "Troponin C Classification         0.743502\n",
      "Ejection Fraction Status          0.743502\n",
      "Creatine Kinase                   0.431471\n",
      "Artery Blockage (%)               0.388730\n",
      "Creatine Kinase Classification    0.381477\n",
      "Age                               0.013918\n",
      "Gender                            0.007859\n",
      "Troponin C                       -0.543561\n",
      "Ejection Fraction                -0.616220\n",
      "Name: Heart Disease, dtype: float64\n"
     ]
    },
    {
     "data": {
      "image/png": "[encoded data removed]",
      "text/plain": [
       "<Figure size 1000x600 with 2 Axes>"
      ]
     },
     "metadata": {},
     "output_type": "display_data"
    }
   ],
   "source": [
    "import seaborn as sns\n",
    "import matplotlib.pyplot as plt\n",
    "\n",
    "# Compute correlation\n",
    "correlation = X.join(y).corr()\n",
    "\n",
    "# Display correlation of features with target\n",
    "print(correlation['Heart Disease'].sort_values(ascending=False))\n",
    "\n",
    "# Plot heatmap\n",
    "plt.figure(figsize=(10, 6))\n",
    "sns.heatmap(correlation[['Heart Disease']].sort_values(by='Heart Disease', ascending=False), \n",
    "            annot=True, cmap='coolwarm', fmt=\".2f\")\n",
    "plt.title(\"Feature Correlation with Heart Disease\")\n",
    "plt.show()\n"
   ]
  },
  {
   "cell_type": "markdown",
   "metadata": {},
   "source": [
    "## Split the Data\n"
   ]
  },
  {
   "cell_type": "code",
   "execution_count": 194,
   "metadata": {},
   "outputs": [
    {
     "data": {
      "text/html": [
       "<div>\n",
       "<style scoped>\n",
       "    .dataframe tbody tr th:only-of-type {\n",
       "        vertical-align: middle;\n",
       "    }\n",
       "\n",
       "    .dataframe tbody tr th {\n",
       "        vertical-align: top;\n",
       "    }\n",
       "\n",
       "    .dataframe thead th {\n",
       "        text-align: right;\n",
       "    }\n",
       "</style>\n",
       "<table border=\"1\" class=\"dataframe\">\n",
       "  <thead>\n",
       "    <tr style=\"text-align: right;\">\n",
       "      <th></th>\n",
       "      <th>Age</th>\n",
       "      <th>Gender</th>\n",
       "      <th>Troponin C</th>\n",
       "      <th>Troponin C Classification</th>\n",
       "      <th>Creatine Kinase</th>\n",
       "      <th>Creatine Kinase Classification</th>\n",
       "      <th>Ejection Fraction</th>\n",
       "      <th>Ejection Fraction Status</th>\n",
       "      <th>Artery Blockage (%)</th>\n",
       "      <th>Smoking</th>\n",
       "      <th>Alcohol</th>\n",
       "    </tr>\n",
       "  </thead>\n",
       "  <tbody>\n",
       "    <tr>\n",
       "      <th>498</th>\n",
       "      <td>58</td>\n",
       "      <td>1</td>\n",
       "      <td>0.01</td>\n",
       "      <td>1</td>\n",
       "      <td>1027.2</td>\n",
       "      <td>1</td>\n",
       "      <td>52.28</td>\n",
       "      <td>1</td>\n",
       "      <td>97.44</td>\n",
       "      <td>1</td>\n",
       "      <td>1</td>\n",
       "    </tr>\n",
       "    <tr>\n",
       "      <th>243</th>\n",
       "      <td>63</td>\n",
       "      <td>0</td>\n",
       "      <td>17.68</td>\n",
       "      <td>0</td>\n",
       "      <td>117.3</td>\n",
       "      <td>0</td>\n",
       "      <td>65.20</td>\n",
       "      <td>0</td>\n",
       "      <td>37.02</td>\n",
       "      <td>0</td>\n",
       "      <td>0</td>\n",
       "    </tr>\n",
       "    <tr>\n",
       "      <th>314</th>\n",
       "      <td>54</td>\n",
       "      <td>1</td>\n",
       "      <td>0.03</td>\n",
       "      <td>1</td>\n",
       "      <td>1286.1</td>\n",
       "      <td>1</td>\n",
       "      <td>57.02</td>\n",
       "      <td>1</td>\n",
       "      <td>83.60</td>\n",
       "      <td>1</td>\n",
       "      <td>1</td>\n",
       "    </tr>\n",
       "    <tr>\n",
       "      <th>202</th>\n",
       "      <td>80</td>\n",
       "      <td>0</td>\n",
       "      <td>29.67</td>\n",
       "      <td>0</td>\n",
       "      <td>56.9</td>\n",
       "      <td>0</td>\n",
       "      <td>68.90</td>\n",
       "      <td>0</td>\n",
       "      <td>16.16</td>\n",
       "      <td>0</td>\n",
       "      <td>0</td>\n",
       "    </tr>\n",
       "    <tr>\n",
       "      <th>300</th>\n",
       "      <td>53</td>\n",
       "      <td>0</td>\n",
       "      <td>29.15</td>\n",
       "      <td>0</td>\n",
       "      <td>25.0</td>\n",
       "      <td>0</td>\n",
       "      <td>68.64</td>\n",
       "      <td>0</td>\n",
       "      <td>5.17</td>\n",
       "      <td>0</td>\n",
       "      <td>0</td>\n",
       "    </tr>\n",
       "  </tbody>\n",
       "</table>\n",
       "</div>"
      ],
      "text/plain": [
       "     Age  Gender  Troponin C  Troponin C Classification  Creatine Kinase  \\\n",
       "498   58       1        0.01                          1           1027.2   \n",
       "243   63       0       17.68                          0            117.3   \n",
       "314   54       1        0.03                          1           1286.1   \n",
       "202   80       0       29.67                          0             56.9   \n",
       "300   53       0       29.15                          0             25.0   \n",
       "\n",
       "     Creatine Kinase Classification  Ejection Fraction  \\\n",
       "498                               1              52.28   \n",
       "243                               0              65.20   \n",
       "314                               1              57.02   \n",
       "202                               0              68.90   \n",
       "300                               0              68.64   \n",
       "\n",
       "     Ejection Fraction Status  Artery Blockage (%)  Smoking  Alcohol  \n",
       "498                         1                97.44        1        1  \n",
       "243                         0                37.02        0        0  \n",
       "314                         1                83.60        1        1  \n",
       "202                         0                16.16        0        0  \n",
       "300                         0                 5.17        0        0  "
      ]
     },
     "metadata": {},
     "output_type": "display_data"
    },
    {
     "data": {
      "text/html": [
       "<div>\n",
       "<style scoped>\n",
       "    .dataframe tbody tr th:only-of-type {\n",
       "        vertical-align: middle;\n",
       "    }\n",
       "\n",
       "    .dataframe tbody tr th {\n",
       "        vertical-align: top;\n",
       "    }\n",
       "\n",
       "    .dataframe thead th {\n",
       "        text-align: right;\n",
       "    }\n",
       "</style>\n",
       "<table border=\"1\" class=\"dataframe\">\n",
       "  <thead>\n",
       "    <tr style=\"text-align: right;\">\n",
       "      <th></th>\n",
       "      <th>Age</th>\n",
       "      <th>Gender</th>\n",
       "      <th>Troponin C</th>\n",
       "      <th>Troponin C Classification</th>\n",
       "      <th>Creatine Kinase</th>\n",
       "      <th>Creatine Kinase Classification</th>\n",
       "      <th>Ejection Fraction</th>\n",
       "      <th>Ejection Fraction Status</th>\n",
       "      <th>Artery Blockage (%)</th>\n",
       "      <th>Smoking</th>\n",
       "      <th>Alcohol</th>\n",
       "    </tr>\n",
       "  </thead>\n",
       "  <tbody>\n",
       "    <tr>\n",
       "      <th>131</th>\n",
       "      <td>73</td>\n",
       "      <td>1</td>\n",
       "      <td>24.98</td>\n",
       "      <td>0</td>\n",
       "      <td>74.4</td>\n",
       "      <td>0</td>\n",
       "      <td>67.38</td>\n",
       "      <td>0</td>\n",
       "      <td>22.21</td>\n",
       "      <td>0</td>\n",
       "      <td>0</td>\n",
       "    </tr>\n",
       "    <tr>\n",
       "      <th>203</th>\n",
       "      <td>71</td>\n",
       "      <td>0</td>\n",
       "      <td>0.01</td>\n",
       "      <td>1</td>\n",
       "      <td>1410.5</td>\n",
       "      <td>1</td>\n",
       "      <td>52.93</td>\n",
       "      <td>1</td>\n",
       "      <td>89.86</td>\n",
       "      <td>1</td>\n",
       "      <td>0</td>\n",
       "    </tr>\n",
       "    <tr>\n",
       "      <th>50</th>\n",
       "      <td>38</td>\n",
       "      <td>0</td>\n",
       "      <td>0.01</td>\n",
       "      <td>1</td>\n",
       "      <td>1462.8</td>\n",
       "      <td>1</td>\n",
       "      <td>51.69</td>\n",
       "      <td>1</td>\n",
       "      <td>96.96</td>\n",
       "      <td>1</td>\n",
       "      <td>1</td>\n",
       "    </tr>\n",
       "    <tr>\n",
       "      <th>585</th>\n",
       "      <td>50</td>\n",
       "      <td>0</td>\n",
       "      <td>29.67</td>\n",
       "      <td>0</td>\n",
       "      <td>79.6</td>\n",
       "      <td>0</td>\n",
       "      <td>68.79</td>\n",
       "      <td>0</td>\n",
       "      <td>24.01</td>\n",
       "      <td>0</td>\n",
       "      <td>0</td>\n",
       "    </tr>\n",
       "    <tr>\n",
       "      <th>138</th>\n",
       "      <td>66</td>\n",
       "      <td>1</td>\n",
       "      <td>0.03</td>\n",
       "      <td>1</td>\n",
       "      <td>115.5</td>\n",
       "      <td>0</td>\n",
       "      <td>57.12</td>\n",
       "      <td>1</td>\n",
       "      <td>36.36</td>\n",
       "      <td>1</td>\n",
       "      <td>1</td>\n",
       "    </tr>\n",
       "  </tbody>\n",
       "</table>\n",
       "</div>"
      ],
      "text/plain": [
       "     Age  Gender  Troponin C  Troponin C Classification  Creatine Kinase  \\\n",
       "131   73       1       24.98                          0             74.4   \n",
       "203   71       0        0.01                          1           1410.5   \n",
       "50    38       0        0.01                          1           1462.8   \n",
       "585   50       0       29.67                          0             79.6   \n",
       "138   66       1        0.03                          1            115.5   \n",
       "\n",
       "     Creatine Kinase Classification  Ejection Fraction  \\\n",
       "131                               0              67.38   \n",
       "203                               1              52.93   \n",
       "50                                1              51.69   \n",
       "585                               0              68.79   \n",
       "138                               0              57.12   \n",
       "\n",
       "     Ejection Fraction Status  Artery Blockage (%)  Smoking  Alcohol  \n",
       "131                         0                22.21        0        0  \n",
       "203                         1                89.86        1        0  \n",
       "50                          1                96.96        1        1  \n",
       "585                         0                24.01        0        0  \n",
       "138                         1                36.36        1        1  "
      ]
     },
     "metadata": {},
     "output_type": "display_data"
    },
    {
     "data": {
      "text/plain": [
       "498    1\n",
       "243    0\n",
       "314    1\n",
       "202    0\n",
       "300    0\n",
       "Name: Heart Disease, dtype: int64"
      ]
     },
     "metadata": {},
     "output_type": "display_data"
    },
    {
     "data": {
      "text/plain": [
       "131    0\n",
       "203    1\n",
       "50     1\n",
       "585    0\n",
       "138    1\n",
       "Name: Heart Disease, dtype: int64"
      ]
     },
     "metadata": {},
     "output_type": "display_data"
    }
   ],
   "source": [
    "X_train, X_test, y_train, y_test = train_test_split(X, y, test_size=0.3, random_state=123)\n",
    "display(X_train.head())\n",
    "display(X_test.head())\n",
    "display(y_train.head())\n",
    "display(y_test.head())\n"
   ]
  },
  {
   "cell_type": "markdown",
   "metadata": {},
   "source": [
    "# Train the Models\n"
   ]
  },
  {
   "cell_type": "markdown",
   "metadata": {},
   "source": [
    "### 1-KNN Model"
   ]
  },
  {
   "cell_type": "code",
   "execution_count": 202,
   "metadata": {},
   "outputs": [],
   "source": [
    "from sklearn.neighbors import KNeighborsClassifier\n",
    "\n",
    "\n",
    "knn = KNeighborsClassifier(n_neighbors=5)\n",
    "knn.fit(X_train, y_train)\n",
    "knn_preds = knn.predict(X_test)"
   ]
  },
  {
   "cell_type": "code",
   "execution_count": 203,
   "metadata": {},
   "outputs": [
    {
     "name": "stdout",
     "output_type": "stream",
     "text": [
      "KNN Model Performance:\n",
      "              precision    recall  f1-score   support\n",
      "\n",
      "           0       0.99      0.79      0.88       104\n",
      "           1       0.90      0.99      0.94       196\n",
      "\n",
      "    accuracy                           0.92       300\n",
      "   macro avg       0.94      0.89      0.91       300\n",
      "weighted avg       0.93      0.92      0.92       300\n",
      "\n",
      "Confusion Matrix:\n",
      "[[ 82  22]\n",
      " [  1 195]]\n"
     ]
    }
   ],
   "source": [
    "print(\"KNN Model Performance:\")\n",
    "print(classification_report(y_test, knn_preds))\n",
    "print(\"Confusion Matrix:\")\n",
    "print(confusion_matrix(y_test, knn_preds))"
   ]
  },
  {
   "cell_type": "markdown",
   "metadata": {},
   "source": [
    "### Hyperparameter Tuning"
   ]
  },
  {
   "cell_type": "code",
   "execution_count": 204,
   "metadata": {},
   "outputs": [
    {
     "name": "stdout",
     "output_type": "stream",
     "text": [
      "Best k value: 4\n"
     ]
    }
   ],
   "source": [
    "param_grid = {'n_neighbors': range(1, 21)}\n",
    "knn_grid = GridSearchCV(KNeighborsClassifier(), param_grid, cv=5)\n",
    "knn_grid.fit(X_train, y_train)\n",
    "\n",
    "best_k = knn_grid.best_params_['n_neighbors']\n",
    "print(f\"Best k value: {best_k}\")"
   ]
  },
  {
   "cell_type": "code",
   "execution_count": 207,
   "metadata": {},
   "outputs": [],
   "source": [
    "knn_best = KNeighborsClassifier(n_neighbors=best_k)\n",
    "knn_best.fit(X_train, y_train)\n",
    "knn_preds_best = knn_best.predict(X_test)"
   ]
  },
  {
   "cell_type": "code",
   "execution_count": 208,
   "metadata": {},
   "outputs": [
    {
     "name": "stdout",
     "output_type": "stream",
     "text": [
      "Best KNN Model Performance:\n",
      "              precision    recall  f1-score   support\n",
      "\n",
      "           0       0.96      0.84      0.89       104\n",
      "           1       0.92      0.98      0.95       196\n",
      "\n",
      "    accuracy                           0.93       300\n",
      "   macro avg       0.94      0.91      0.92       300\n",
      "weighted avg       0.93      0.93      0.93       300\n",
      "\n",
      "Confusion Matrix:\n",
      "[[ 87  17]\n",
      " [  4 192]]\n"
     ]
    }
   ],
   "source": [
    "print(\"Best KNN Model Performance:\")\n",
    "print(classification_report(y_test, knn_preds_best))\n",
    "print(\"Confusion Matrix:\")\n",
    "print(confusion_matrix(y_test, knn_preds_best))"
   ]
  },
  {
   "cell_type": "markdown",
   "metadata": {},
   "source": [
    "### 2-Naïve Bayes Model"
   ]
  },
  {
   "cell_type": "code",
   "execution_count": 209,
   "metadata": {},
   "outputs": [],
   "source": [
    "from sklearn.naive_bayes import GaussianNB\n",
    "\n",
    "nb = GaussianNB()\n",
    "nb.fit(X_train, y_train)\n",
    "nb_preds = nb.predict(X_test)\n"
   ]
  },
  {
   "cell_type": "code",
   "execution_count": 210,
   "metadata": {},
   "outputs": [
    {
     "name": "stdout",
     "output_type": "stream",
     "text": [
      "Naïve Bayes Model Performance:\n",
      "              precision    recall  f1-score   support\n",
      "\n",
      "           0       0.98      0.99      0.99       104\n",
      "           1       0.99      0.99      0.99       196\n",
      "\n",
      "    accuracy                           0.99       300\n",
      "   macro avg       0.99      0.99      0.99       300\n",
      "weighted avg       0.99      0.99      0.99       300\n",
      "\n",
      "Confusion Matrix:\n",
      "[[103   1]\n",
      " [  2 194]]\n"
     ]
    }
   ],
   "source": [
    "print(\"Naïve Bayes Model Performance:\")\n",
    "print(classification_report(y_test, nb_preds))\n",
    "print(\"Confusion Matrix:\")\n",
    "print(confusion_matrix(y_test, nb_preds))"
   ]
  },
  {
   "cell_type": "markdown",
   "metadata": {},
   "source": [
    "## Compare Model Accuracy\n"
   ]
  },
  {
   "cell_type": "code",
   "execution_count": 214,
   "metadata": {},
   "outputs": [
    {
     "name": "stdout",
     "output_type": "stream",
     "text": [
      "Best KNN Accuracy: 0.9300\n",
      "Naïve Bayes Accuracy: 0.9900\n"
     ]
    }
   ],
   "source": [
    "knn_acc = accuracy_score(y_test, knn_preds_best)\n",
    "nb_acc = accuracy_score(y_test, nb_preds)\n",
    "\n",
    "print(f\"Best KNN Accuracy: {knn_acc:.4f}\")\n",
    "print(f\"Naïve Bayes Accuracy: {nb_acc:.4f}\")"
   ]
  }
 ],
 "metadata": {
  "kernelspec": {
   "display_name": "venv",
   "language": "python",
   "name": "python3"
  },
  "language_info": {
   "codemirror_mode": {
    "name": "ipython",
    "version": 3
   },
   "file_extension": ".py",
   "mimetype": "text/x-python",
   "name": "python",
   "nbconvert_exporter": "python",
   "pygments_lexer": "ipython3",
   "version": "3.11.5"
  }
 },
 "nbformat": 4,
 "nbformat_minor": 2
}
